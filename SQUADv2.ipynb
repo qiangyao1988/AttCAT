{
 "cells": [
  {
   "cell_type": "code",
   "execution_count": 78,
   "id": "d90a11d5",
   "metadata": {},
   "outputs": [],
   "source": [
    "import os\n",
    "import torch\n",
    "import argparse\n",
    "import glob\n",
    "import random\n",
    "import numpy as np\n",
    "import pandas as pd\n",
    "import tqdm as tqdm\n",
    "from scipy.special import softmax\n",
    "\n",
    "import seaborn as sns\n",
    "import matplotlib.pyplot as plt\n",
    "from IPython.display import display, HTML\n",
    "from captum.attr import visualization\n",
    "\n",
    "from transformers import AutoTokenizer\n",
    "from transformers import DefaultDataCollator\n",
    "from transformers import AutoModelForQuestionAnswering\n",
    "\n",
    "import datasets\n",
    "from datasets import load_dataset, load_metric \n",
    "from datasets import list_datasets, list_metrics"
   ]
  },
  {
   "cell_type": "code",
   "execution_count": 124,
   "id": "be4c293d",
   "metadata": {},
   "outputs": [],
   "source": [
    "# load model   \n",
    "model = AutoModelForQuestionAnswering.from_pretrained(\"deepset/bert-base-uncased-squad2\").to(\"cuda\")\n",
    "# model = AutoModelForQuestionAnswering.from_pretrained(\"thatdramebaazguy/roberta-base-squad\").to(\"cuda\")\n",
    "# model = AutoModelForQuestionAnswering.from_pretrained(\"distilbert-base-uncased-distilled-squad\").to(\"cuda\")\n",
    "model.eval()\n",
    "\n",
    "# load tokenizer\n",
    "tokenizer = AutoTokenizer.from_pretrained(\"deepset/bert-base-uncased-squad2\")\n",
    "# tokenizer = AutoTokenizer.from_pretrained('thatdramebaazguy/roberta-base-squad')\n",
    "# tokenizer = AutoTokenizer.from_pretrained('distilbert-base-uncased')"
   ]
  },
  {
   "cell_type": "code",
   "execution_count": 125,
   "id": "12d04a77",
   "metadata": {},
   "outputs": [
    {
     "name": "stderr",
     "output_type": "stream",
     "text": [
      "Reusing dataset squad_v2 (/home/qiangyao/.cache/huggingface/datasets/squad_v2/squad_v2/2.0.0/09187c73c1b837c95d9a249cd97c2c3f1cebada06efe667b4427714b27639b1d)\n"
     ]
    },
    {
     "data": {
      "application/vnd.jupyter.widget-view+json": {
       "model_id": "e788fa6200bb4f878ce9f457f5d16663",
       "version_major": 2,
       "version_minor": 0
      },
      "text/plain": [
       "  0%|          | 0/2 [00:00<?, ?it/s]"
      ]
     },
     "metadata": {},
     "output_type": "display_data"
    }
   ],
   "source": [
    "squad = load_dataset(\"squad_v2\")"
   ]
  },
  {
   "cell_type": "code",
   "execution_count": 126,
   "id": "b1ea83df",
   "metadata": {},
   "outputs": [
    {
     "name": "stderr",
     "output_type": "stream",
     "text": [
      "Loading cached processed dataset at /home/qiangyao/.cache/huggingface/datasets/squad_v2/squad_v2/2.0.0/09187c73c1b837c95d9a249cd97c2c3f1cebada06efe667b4427714b27639b1d/cache-ccb20f321a3983b6.arrow\n",
      "Loading cached processed dataset at /home/qiangyao/.cache/huggingface/datasets/squad_v2/squad_v2/2.0.0/09187c73c1b837c95d9a249cd97c2c3f1cebada06efe667b4427714b27639b1d/cache-6c29e2eee975d92c.arrow\n"
     ]
    }
   ],
   "source": [
    "squad = squad.filter(lambda x: len(x[\"answers\"]['text']) > 0)"
   ]
  },
  {
   "cell_type": "code",
   "execution_count": 127,
   "id": "294f621c",
   "metadata": {},
   "outputs": [],
   "source": [
    "def preprocess_function(examples):\n",
    "    questions = [q.strip() for q in examples[\"question\"]]\n",
    "    \n",
    "    inputs = tokenizer(\n",
    "        questions,\n",
    "        examples[\"context\"],\n",
    "        max_length=384,\n",
    "        truncation=\"only_second\",\n",
    "        return_offsets_mapping=True,\n",
    "        padding=False,\n",
    "    )\n",
    "\n",
    "    offset_mapping = inputs.pop(\"offset_mapping\")\n",
    "    answers = examples[\"answers\"]\n",
    "    start_positions = []\n",
    "    end_positions = []\n",
    "\n",
    "    for i, offset in enumerate(offset_mapping):\n",
    "        answer = answers[i]\n",
    "        \n",
    "        start_char = answer[\"answer_start\"][0]\n",
    "        end_char = answer[\"answer_start\"][0] + len(answer[\"text\"][0])\n",
    "        sequence_ids = inputs.sequence_ids(i)\n",
    "\n",
    "        # Find the start and end of the context\n",
    "        idx = 0\n",
    "        while sequence_ids[idx] != 1:\n",
    "            idx += 1\n",
    "        context_start = idx\n",
    "        while sequence_ids[idx] == 1:\n",
    "            idx += 1\n",
    "        context_end = idx - 1\n",
    "\n",
    "        # If the answer is not fully inside the context, label it (0, 0)\n",
    "        if offset[context_start][0] > end_char or offset[context_end][1] < start_char:\n",
    "            start_positions.append(0)\n",
    "            end_positions.append(0)\n",
    "        else:\n",
    "            # Otherwise it's the start and end token positions\n",
    "            idx = context_start\n",
    "            while idx <= context_end and offset[idx][0] <= start_char:\n",
    "                idx += 1\n",
    "            start_positions.append(idx - 1)\n",
    "\n",
    "            idx = context_end\n",
    "            while idx >= context_start and offset[idx][1] >= end_char:\n",
    "                idx -= 1\n",
    "            end_positions.append(idx + 1)\n",
    "\n",
    "    inputs[\"start_positions\"] = start_positions\n",
    "    inputs[\"end_positions\"] = end_positions\n",
    "    return inputs"
   ]
  },
  {
   "cell_type": "code",
   "execution_count": 128,
   "id": "b8964566",
   "metadata": {},
   "outputs": [
    {
     "name": "stderr",
     "output_type": "stream",
     "text": [
      "Loading cached processed dataset at /home/qiangyao/.cache/huggingface/datasets/squad_v2/squad_v2/2.0.0/09187c73c1b837c95d9a249cd97c2c3f1cebada06efe667b4427714b27639b1d/cache-6ee9a468b5edc8b3.arrow\n",
      "Loading cached processed dataset at /home/qiangyao/.cache/huggingface/datasets/squad_v2/squad_v2/2.0.0/09187c73c1b837c95d9a249cd97c2c3f1cebada06efe667b4427714b27639b1d/cache-4b6fe63528e538d9.arrow\n"
     ]
    }
   ],
   "source": [
    "tokenized_squad = squad.map(preprocess_function, batched=True, remove_columns=squad[\"train\"].column_names)"
   ]
  },
  {
   "cell_type": "code",
   "execution_count": 129,
   "id": "2de655b9",
   "metadata": {},
   "outputs": [
    {
     "data": {
      "text/plain": [
       "400"
      ]
     },
     "execution_count": 129,
     "metadata": {},
     "output_type": "execute_result"
    }
   ],
   "source": [
    "test_num = 400\n",
    "to_test = np.array(tokenized_squad['validation'])\n",
    "to_test_idx = np.random.choice(len(tokenized_squad['validation']), test_num, replace=False)\n",
    "to_test = to_test[to_test_idx]\n",
    "len(to_test)"
   ]
  },
  {
   "cell_type": "code",
   "execution_count": 130,
   "id": "e251f16f",
   "metadata": {},
   "outputs": [],
   "source": [
    "def preprocess_sample(tokenized_squad,index):\n",
    "    input_ids = tokenized_squad['validation'][index]['input_ids']\n",
    "    text_ids = (torch.tensor([input_ids])).to(\"cuda\")\n",
    "    text_words = tokenizer.convert_ids_to_tokens(text_ids[0])\n",
    "    \n",
    "    att_mask = tokenized_squad['validation'][index]['attention_mask']\n",
    "    special_idxs = [x for x, y in list(enumerate(input_ids)) if y in special_tokens]\n",
    "    att_mask = [0 if index in special_idxs else 1 for index, item in enumerate(att_mask)]\n",
    "    att_mask = (torch.tensor([att_mask])).to(\"cuda\")\n",
    "    \n",
    "    start_positions = tokenized_squad['validation'][index]['start_positions']\n",
    "    end_positions = tokenized_squad['validation'][index]['end_positions']\n",
    "    \n",
    "    return text_ids, att_mask, text_words, start_positions, end_positions"
   ]
  },
  {
   "cell_type": "code",
   "execution_count": 131,
   "id": "4cf444f6",
   "metadata": {},
   "outputs": [],
   "source": [
    "def generate_cat(model, text_ids, att_mask, is_relu = False, is_start = True):\n",
    "    \n",
    "    # outputs\n",
    "    result = model(text_ids, att_mask, output_hidden_states=True, output_attentions=True)\n",
    "    \n",
    "    # attention blocks\n",
    "    blocks = model.bert.encoder.layer\n",
    "    # blocks = model.distilbert.transformer.layer # cy\n",
    "    # blocks = model.roberta.encoder.layer # cy\n",
    "\n",
    "    for blk_id in range(len(blocks)):\n",
    "        result.hidden_states[blk_id].retain_grad()\n",
    "        \n",
    "    start_prob = result['start_logits'][0]\n",
    "    start_idx = torch.argmax(start_prob).cpu().detach().numpy()\n",
    "    end_prob = result['end_logits'][0]\n",
    "    end_idx = torch.argmax(end_prob).cpu().detach().numpy()\n",
    "\n",
    "    model.zero_grad()\n",
    "    if is_start:\n",
    "        start_prob[start_idx].backward() \n",
    "    else:\n",
    "        end_prob[end_idx].backward() \n",
    "        \n",
    "    cat_layers = {}\n",
    "    \n",
    "    for blk_id in range(len(blocks)):\n",
    "        hs_grad = result.hidden_states[blk_id].grad\n",
    "        \n",
    "        att = result.attentions[blk_id].squeeze(0)\n",
    "        att = att.mean(dim=0)\n",
    "        att = att.mean(dim=0)\n",
    "        \n",
    "        cat_layer = (hs_grad * result.hidden_states[blk_id]).sum(dim=-1).squeeze(0)\n",
    "        cat_layer = cat_layer * att\n",
    "\n",
    "        cat_layers[blk_id] = cat_layer\n",
    "        \n",
    "    cat = sum(cat_layers.values())  \n",
    "    \n",
    "    if is_relu:\n",
    "        cat_expln = torch.relu(cat)\n",
    "    else:\n",
    "        cat_expln = cat\n",
    "        \n",
    "    cat_expln = torch.abs(cat_expln)\n",
    "        \n",
    "    cat_expln = cat_expln.cpu().detach().numpy()\n",
    "        \n",
    "    return cat_expln, start_idx, end_idx"
   ]
  },
  {
   "cell_type": "code",
   "execution_count": 132,
   "id": "fe6e5cbb",
   "metadata": {},
   "outputs": [],
   "source": [
    "def cal_count(start_positions,end_positions, attribution):\n",
    "    answers = []\n",
    "    sorted_idx = np.argsort(-attribution)\n",
    "    sorted_idx = set(sorted_idx[:20])\n",
    "    \n",
    "    for i in range(start_positions,end_positions+1):\n",
    "        answers.append(i)\n",
    "        \n",
    "    count = 0\n",
    "    \n",
    "    for a in answers:\n",
    "        if a in sorted_idx:\n",
    "            count +=1 \n",
    "        \n",
    "    return count"
   ]
  },
  {
   "cell_type": "code",
   "execution_count": 133,
   "id": "53fa38e8",
   "metadata": {},
   "outputs": [],
   "source": [
    "def perfect_count(start_positions,end_positions):\n",
    "    \n",
    "    answers = []\n",
    "    for i in range(start_positions,end_positions+1):\n",
    "        answers.append(i)\n",
    "        \n",
    "    count = len(answers)\n",
    "    \n",
    "    return count"
   ]
  },
  {
   "cell_type": "code",
   "execution_count": 134,
   "id": "b861d291",
   "metadata": {},
   "outputs": [],
   "source": [
    "def preprocess_instance(instance, special_tokens={101,102}):\n",
    "    input_ids = instance['input_ids']\n",
    "    text_ids = (torch.tensor([input_ids])).to(\"cuda\")\n",
    "    text_words = tokenizer.convert_ids_to_tokens(text_ids[0])\n",
    "    \n",
    "    att_mask = instance['attention_mask']\n",
    "    special_idxs = [x for x, y in list(enumerate(input_ids)) if y in special_tokens]\n",
    "    att_mask = [0 if index in special_idxs else 1 for index, item in enumerate(att_mask)]\n",
    "    att_mask = (torch.tensor([att_mask])).to(\"cuda\")\n",
    "    \n",
    "    start_positions = instance['start_positions']\n",
    "    end_positions = instance['end_positions']\n",
    "    \n",
    "    return text_ids, text_words, att_mask, start_positions, end_positions"
   ]
  },
  {
   "cell_type": "code",
   "execution_count": 135,
   "id": "567bab03",
   "metadata": {},
   "outputs": [],
   "source": [
    "def qa_test(model, test_data):\n",
    "    \n",
    "    cat_scores = []\n",
    "    att_scores = []\n",
    "    rollout_scores = []\n",
    "    \n",
    "    perfect_scores = []\n",
    "    \n",
    "    for i, test_instance in enumerate(test_data):\n",
    "        text_ids, text_words, att_mask, start_positions, end_positions = preprocess_instance(test_instance)\n",
    "        \n",
    "        cat_expln_start, start_idx, end_idx = generate_cat(model, text_ids, att_mask, is_relu = False, is_start = True)\n",
    "        cat_expln_end, start_idx, end_idx = generate_cat(model, text_ids, att_mask, is_relu = False, is_start = False)\n",
    "        \n",
    "        cat_expln = cat_expln_start + cat_expln_end\n",
    "        \n",
    "        att_layers, blocks = generate_att_layers(model, text_ids, att_mask)\n",
    "        att_mat = generate_att_mat(att_layers, blocks, avg_head= True)\n",
    "        raw_att_expln = get_raw_att(att_mat, layer=-1)\n",
    "        rollout_expln = compute_rollout_attention(att_mat)\n",
    "        \n",
    "        count_cat = cal_count(start_positions,end_positions,cat_expln)\n",
    "        count_att = cal_count(start_positions,end_positions,raw_att_expln)\n",
    "        count_rollout = cal_count(start_positions,end_positions,rollout_expln)\n",
    "        \n",
    "        cat_scores.append(count_cat)\n",
    "        att_scores.append(count_att)\n",
    "        rollout_scores.append(count_rollout)\n",
    "        \n",
    "        p_count = perfect_count(start_positions,end_positions)\n",
    "        perfect_scores.append(p_count)\n",
    "    \n",
    "    cat_score = np.mean(cat_scores)\n",
    "    att_score = np.mean(att_scores)\n",
    "    rollout_score = np.mean(rollout_scores)\n",
    "        \n",
    "    perfect_score = np.mean(perfect_scores)\n",
    "    \n",
    "    return cat_score, att_score, rollout_score, perfect_score"
   ]
  },
  {
   "cell_type": "code",
   "execution_count": 136,
   "id": "cd228d32",
   "metadata": {},
   "outputs": [],
   "source": [
    "def generate_att_layers(model, text_ids, att_mask):\n",
    "    \n",
    "    # outputs\n",
    "    result = model(text_ids, att_mask, output_hidden_states=True, output_attentions=True)\n",
    "    \n",
    "    # attention blocks\n",
    "    blocks = model.bert.encoder.layer\n",
    "    # blocks = model.distilbert.transformer.layer # cy\n",
    "    # blocks = model.roberta.encoder.layer # cy\n",
    "    \n",
    "    att_layers = {}\n",
    "    \n",
    "    for blk_id in range(len(blocks)):\n",
    "        att = result.attentions[blk_id].squeeze(0)\n",
    "        att = att.cpu().detach().numpy()\n",
    "        att_layers[blk_id] = att\n",
    "        \n",
    "    return att_layers, blocks\n",
    "\n",
    "\n",
    "def generate_att_mat(att_layers, blocks, avg_head=True):\n",
    "    \n",
    "    att_mat = {}\n",
    "    \n",
    "    if avg_head:\n",
    "        for blk_id in range(len(blocks)):\n",
    "            att = att_layers[blk_id]\n",
    "            att = np.mean(att, axis = 0) # average over head \n",
    "            att_mat[blk_id] = att\n",
    "            \n",
    "    else:\n",
    "        for blk_id in range(len(blocks)):\n",
    "            head_explns = {}  \n",
    "            att = att_layers[blk_id]\n",
    "            for i in range (att.shape[0]):\n",
    "                head_explns[i] = att[i]\n",
    "            att_mat[blk_id] = head_explns\n",
    "            \n",
    "    att_mat = np.array(list(att_mat.values()))\n",
    "    \n",
    "    # att_mat.shape: (6, 9, 9)\n",
    "    \n",
    "    return att_mat\n",
    "\n",
    "\n",
    "def get_raw_att(att_mat, layer=-1):\n",
    "    raw_att = np.mean(att_mat, axis = 0) # average over tokens\n",
    "    return raw_att[layer]\n",
    "\n",
    "\n",
    "def compute_rollout_attention(att_mat):\n",
    "    \n",
    "    residual_att = np.eye(att_mat.shape[1])[None,...]\n",
    "    \n",
    "    aug_att_mat = att_mat + residual_att\n",
    "    aug_att_mat = aug_att_mat / aug_att_mat.sum(axis=-1)[...,None]\n",
    "        \n",
    "    joint_attentions = np.zeros(att_mat.shape)\n",
    "    n_layers = joint_attentions.shape[0]\n",
    "    joint_attentions[0] = att_mat[0]\n",
    "    \n",
    "    for i in np.arange(1,n_layers):\n",
    "        joint_attentions[i] = att_mat[i].dot(joint_attentions[i-1])\n",
    "    \n",
    "    rollout_expln = np.mean(joint_attentions, axis = 0) # average over layers \n",
    "    rollout_expln = np.mean(rollout_expln, axis = 0) # average over tokens \n",
    "        \n",
    "    return rollout_expln"
   ]
  },
  {
   "cell_type": "code",
   "execution_count": null,
   "id": "c77b6113",
   "metadata": {},
   "outputs": [],
   "source": [
    "cat_score, att_score, rollout_score, perfect_score = qa_test(model, to_test)"
   ]
  },
  {
   "cell_type": "code",
   "execution_count": null,
   "id": "bb69a70e",
   "metadata": {},
   "outputs": [],
   "source": [
    "print(cat_score, att_score, rollout_score, perfect_score)"
   ]
  },
  {
   "cell_type": "markdown",
   "id": "38268c5b",
   "metadata": {},
   "source": [
    "# Visulize Single Sample"
   ]
  },
  {
   "cell_type": "code",
   "execution_count": 185,
   "id": "31da38cd",
   "metadata": {},
   "outputs": [],
   "source": [
    "special_tokens = {101,102}\n",
    "text_ids, att_mask, text_words, start_positions, end_positions = preprocess_sample(tokenized_squad,index=300)\n",
    "outputs = model(text_ids,att_mask,output_hidden_states=True,output_attentions=True)\n",
    "result = model(text_ids, att_mask, output_hidden_states=True, output_attentions=True)"
   ]
  },
  {
   "cell_type": "code",
   "execution_count": 186,
   "id": "d8b2e396",
   "metadata": {},
   "outputs": [],
   "source": [
    "cat_expln_start, start_idx, end_idx = generate_cat(model, text_ids, att_mask, is_relu = False, is_start = True)\n",
    "cat_expln_end, start_idx, end_idx = generate_cat(model, text_ids, att_mask, is_relu = False, is_start = True)\n",
    "cat_expln = cat_expln_start + cat_expln_end\n",
    "\n",
    "att_layers, blocks = generate_att_layers(model, text_ids, att_mask)\n",
    "att_mat = generate_att_mat(att_layers, blocks, avg_head= True)\n",
    "\n",
    "raw_att_expln = get_raw_att(att_mat, layer=-1)\n",
    "rollout_expln = compute_rollout_attention(att_mat)"
   ]
  },
  {
   "cell_type": "code",
   "execution_count": 187,
   "id": "f44f3795",
   "metadata": {},
   "outputs": [
    {
     "data": {
      "text/plain": [
       "66"
      ]
     },
     "execution_count": 187,
     "metadata": {},
     "output_type": "execute_result"
    }
   ],
   "source": [
    "start_positions"
   ]
  },
  {
   "cell_type": "code",
   "execution_count": 188,
   "id": "8ec5c746",
   "metadata": {},
   "outputs": [],
   "source": [
    "def show_text_attr(expln,str_list,is_relu = True):\n",
    "    if is_relu:\n",
    "        rgb = lambda x: '0,0,0' if x < 0 else '0,255,0'\n",
    "        alpha = lambda x: max(x, 0) * 10\n",
    "    else:\n",
    "        rgb = lambda x: '255,0,0' if x < 0 else '0,255,0'\n",
    "        alpha = lambda x: x * -50 if x < 0 else x * 50\n",
    "    attrs = list(expln)\n",
    "    subwords = str_list\n",
    "    \n",
    "    token_marks = [\n",
    "        f'<mark style=\"background-color:rgba({rgb(attr)},{alpha(attr)})\">{token}</mark>'\n",
    "        for token, attr in zip(subwords, attrs)\n",
    "    ]\n",
    "    \n",
    "    display(HTML('<p>' + ' '.join(token_marks) + '</p>'))"
   ]
  },
  {
   "cell_type": "code",
   "execution_count": 189,
   "id": "01d9401c",
   "metadata": {},
   "outputs": [
    {
     "data": {
      "text/html": [
       "<p><mark style=\"background-color:rgba(0,255,0,0.0)\">[CLS]</mark> <mark style=\"background-color:rgba(0,255,0,0.9405329078435898)\">what</mark> <mark style=\"background-color:rgba(0,255,0,0.21010275930166245)\">is</mark> <mark style=\"background-color:rgba(0,255,0,0.022381767630577087)\">the</mark> <mark style=\"background-color:rgba(0,255,0,0.03392791375517845)\">name</mark> <mark style=\"background-color:rgba(0,255,0,0.3071451559662819)\">of</mark> <mark style=\"background-color:rgba(0,255,0,0.13987084850668907)\">the</mark> <mark style=\"background-color:rgba(0,255,0,1.629878431558609)\">state</mark> <mark style=\"background-color:rgba(0,255,0,0.6451273709535599)\">that</mark> <mark style=\"background-color:rgba(0,255,0,0.2224663645029068)\">the</mark> <mark style=\"background-color:rgba(0,255,0,0.03760641207918525)\">mega</mark> <mark style=\"background-color:rgba(0,255,0,0.05856063682585955)\">##region</mark> <mark style=\"background-color:rgba(0,255,0,0.33937912434339523)\">expands</mark> <mark style=\"background-color:rgba(0,255,0,0.17368335276842117)\">to</mark> <mark style=\"background-color:rgba(0,255,0,0.008559105917811394)\">in</mark> <mark style=\"background-color:rgba(0,255,0,0.05741186439990997)\">the</mark> <mark style=\"background-color:rgba(0,255,0,0.026053208857774734)\">east</mark> <mark style=\"background-color:rgba(0,255,0,0.7052770256996155)\">?</mark> <mark style=\"background-color:rgba(0,255,0,0.0)\">[SEP]</mark> <mark style=\"background-color:rgba(0,255,0,0.03178442595526576)\">the</mark> <mark style=\"background-color:rgba(0,255,0,0.08722254075109959)\">8</mark> <mark style=\"background-color:rgba(0,255,0,0.010528522543609142)\">-</mark> <mark style=\"background-color:rgba(0,255,0,0.011198279680684209)\">and</mark> <mark style=\"background-color:rgba(0,255,0,0.027873939834535122)\">10</mark> <mark style=\"background-color:rgba(0,255,0,0.17646437510848045)\">-</mark> <mark style=\"background-color:rgba(0,255,0,0.25685520842671394)\">county</mark> <mark style=\"background-color:rgba(0,255,0,0.14129040762782097)\">definitions</mark> <mark style=\"background-color:rgba(0,255,0,0.2935047261416912)\">are</mark> <mark style=\"background-color:rgba(0,255,0,2.836345136165619)\">not</mark> <mark style=\"background-color:rgba(0,255,0,0.16243427991867065)\">used</mark> <mark style=\"background-color:rgba(0,255,0,0.49420494586229324)\">for</mark> <mark style=\"background-color:rgba(0,255,0,0.0036678463220596313)\">the</mark> <mark style=\"background-color:rgba(0,255,0,0.02487318590283394)\">greater</mark> <mark style=\"background-color:rgba(0,255,0,0.10744580999016762)\">southern</mark> <mark style=\"background-color:rgba(0,255,0,0.3007693216204643)\">california</mark> <mark style=\"background-color:rgba(0,255,0,0.19837822765111923)\">mega</mark> <mark style=\"background-color:rgba(0,255,0,0.04936127457767725)\">##region</mark> <mark style=\"background-color:rgba(0,255,0,0.4745398834347725)\">,</mark> <mark style=\"background-color:rgba(0,255,0,0.1514687016606331)\">one</mark> <mark style=\"background-color:rgba(0,255,0,0.002422058314550668)\">of</mark> <mark style=\"background-color:rgba(0,255,0,0.0869247317314148)\">the</mark> <mark style=\"background-color:rgba(0,255,0,0.08362014777958393)\">11</mark> <mark style=\"background-color:rgba(0,255,0,0.01328097889199853)\">mega</mark> <mark style=\"background-color:rgba(0,255,0,0.11567100882530212)\">##region</mark> <mark style=\"background-color:rgba(0,255,0,0.0364569341763854)\">##s</mark> <mark style=\"background-color:rgba(0,255,0,0.04798564128577709)\">of</mark> <mark style=\"background-color:rgba(0,255,0,0.05707747768610716)\">the</mark> <mark style=\"background-color:rgba(0,255,0,0.11717346496880054)\">united</mark> <mark style=\"background-color:rgba(0,255,0,0.22727442905306816)\">states</mark> <mark style=\"background-color:rgba(0,255,0,2.388891577720642)\">.</mark> <mark style=\"background-color:rgba(0,255,0,0.5394812673330307)\">the</mark> <mark style=\"background-color:rgba(0,255,0,0.026798518374562263)\">mega</mark> <mark style=\"background-color:rgba(0,255,0,0.16369160264730453)\">##region</mark> <mark style=\"background-color:rgba(0,255,0,0.00043991036363877356)\">'</mark> <mark style=\"background-color:rgba(0,255,0,0.04213546868413687)\">s</mark> <mark style=\"background-color:rgba(0,255,0,0.41463982313871384)\">area</mark> <mark style=\"background-color:rgba(0,255,0,0.016441071638837457)\">is</mark> <mark style=\"background-color:rgba(0,255,0,0.09669052436947823)\">more</mark> <mark style=\"background-color:rgba(0,255,0,0.14377537183463573)\">expansive</mark> <mark style=\"background-color:rgba(0,255,0,0.3364536538720131)\">,</mark> <mark style=\"background-color:rgba(0,255,0,0.20121866837143898)\">extending</mark> <mark style=\"background-color:rgba(0,255,0,0.14587027952075005)\">east</mark> <mark style=\"background-color:rgba(0,255,0,0.090134022757411)\">into</mark> <mark style=\"background-color:rgba(0,255,0,0.1182335615158081)\">las</mark> <mark style=\"background-color:rgba(0,255,0,0.3060518018901348)\">vegas</mark> <mark style=\"background-color:rgba(0,255,0,0.11569743975996971)\">,</mark> <mark style=\"background-color:rgba(0,255,0,0.04267894197255373)\">nevada</mark> <mark style=\"background-color:rgba(0,255,0,0.0769733777269721)\">,</mark> <mark style=\"background-color:rgba(0,255,0,0.26321666315197945)\">and</mark> <mark style=\"background-color:rgba(0,255,0,0.08917218074202538)\">south</mark> <mark style=\"background-color:rgba(0,255,0,0.019728494808077812)\">across</mark> <mark style=\"background-color:rgba(0,255,0,0.06340802181512117)\">the</mark> <mark style=\"background-color:rgba(0,255,0,0.012810216285288334)\">mexican</mark> <mark style=\"background-color:rgba(0,255,0,0.05716148763895035)\">border</mark> <mark style=\"background-color:rgba(0,255,0,0.015210516285151243)\">into</mark> <mark style=\"background-color:rgba(0,255,0,0.0807157251983881)\">ti</mark> <mark style=\"background-color:rgba(0,255,0,0.09647454135119915)\">##ju</mark> <mark style=\"background-color:rgba(0,255,0,0.07906646467745304)\">##ana</mark> <mark style=\"background-color:rgba(0,255,0,0.929819867014885)\">.</mark> <mark style=\"background-color:rgba(0,255,0,0.0)\">[SEP]</mark></p>"
      ],
      "text/plain": [
       "<IPython.core.display.HTML object>"
      ]
     },
     "metadata": {},
     "output_type": "display_data"
    }
   ],
   "source": [
    "show_text_attr(cat_expln,text_words,is_relu = True)"
   ]
  },
  {
   "cell_type": "code",
   "execution_count": 166,
   "id": "5f528138",
   "metadata": {},
   "outputs": [
    {
     "data": {
      "text/html": [
       "<p><mark style=\"background-color:rgba(0,255,0,0.0)\">[CLS]</mark> <mark style=\"background-color:rgba(0,255,0,1.469018030911684)\">what</mark> <mark style=\"background-color:rgba(0,255,0,0.8975488133728504)\">was</mark> <mark style=\"background-color:rgba(0,255,0,0.9138909168541431)\">the</mark> <mark style=\"background-color:rgba(0,255,0,0.8597737178206444)\">name</mark> <mark style=\"background-color:rgba(0,255,0,0.49459426663815975)\">of</mark> <mark style=\"background-color:rgba(0,255,0,1.2116104364395142)\">the</mark> <mark style=\"background-color:rgba(0,255,0,1.5021753497421741)\">norman</mark> <mark style=\"background-color:rgba(0,255,0,1.6554053872823715)\">castle</mark> <mark style=\"background-color:rgba(0,255,0,1.2962942011654377)\">?</mark> <mark style=\"background-color:rgba(0,255,0,0.0)\">[SEP]</mark> <mark style=\"background-color:rgba(0,255,0,1.0547143407166004)\">some</mark> <mark style=\"background-color:rgba(0,255,0,0.8325121365487576)\">norman</mark> <mark style=\"background-color:rgba(0,255,0,0.5404600407928228)\">##s</mark> <mark style=\"background-color:rgba(0,255,0,0.9492325596511364)\">joined</mark> <mark style=\"background-color:rgba(0,255,0,0.7879925891757011)\">turkish</mark> <mark style=\"background-color:rgba(0,255,0,0.3708469681441784)\">forces</mark> <mark style=\"background-color:rgba(0,255,0,0.5325584206730127)\">to</mark> <mark style=\"background-color:rgba(0,255,0,0.39931628853082657)\">aid</mark> <mark style=\"background-color:rgba(0,255,0,0.3645341610535979)\">in</mark> <mark style=\"background-color:rgba(0,255,0,0.434656860306859)\">the</mark> <mark style=\"background-color:rgba(0,255,0,0.4242061637341976)\">destruction</mark> <mark style=\"background-color:rgba(0,255,0,0.27619951870292425)\">of</mark> <mark style=\"background-color:rgba(0,255,0,0.41805566288530827)\">the</mark> <mark style=\"background-color:rgba(0,255,0,0.4627985879778862)\">armenians</mark> <mark style=\"background-color:rgba(0,255,0,0.25122405495494604)\">vassal</mark> <mark style=\"background-color:rgba(0,255,0,0.29417446348816156)\">-</mark> <mark style=\"background-color:rgba(0,255,0,0.4730969201773405)\">states</mark> <mark style=\"background-color:rgba(0,255,0,0.36036043893545866)\">of</mark> <mark style=\"background-color:rgba(0,255,0,0.1561469747684896)\">sas</mark> <mark style=\"background-color:rgba(0,255,0,0.15168810496106744)\">##so</mark> <mark style=\"background-color:rgba(0,255,0,0.1557080540806055)\">##un</mark> <mark style=\"background-color:rgba(0,255,0,0.4265280906111002)\">and</mark> <mark style=\"background-color:rgba(0,255,0,0.1968493452295661)\">tar</mark> <mark style=\"background-color:rgba(0,255,0,0.20621486473828554)\">##on</mark> <mark style=\"background-color:rgba(0,255,0,0.4140318837016821)\">in</mark> <mark style=\"background-color:rgba(0,255,0,0.24761618115007877)\">far</mark> <mark style=\"background-color:rgba(0,255,0,0.18945722840726376)\">eastern</mark> <mark style=\"background-color:rgba(0,255,0,0.3687097458168864)\">anatolia</mark> <mark style=\"background-color:rgba(0,255,0,1.338653638958931)\">.</mark> <mark style=\"background-color:rgba(0,255,0,0.45726834796369076)\">later</mark> <mark style=\"background-color:rgba(0,255,0,0.6245732773095369)\">,</mark> <mark style=\"background-color:rgba(0,255,0,0.5785197485238314)\">many</mark> <mark style=\"background-color:rgba(0,255,0,0.4353777505457401)\">took</mark> <mark style=\"background-color:rgba(0,255,0,0.3231166861951351)\">up</mark> <mark style=\"background-color:rgba(0,255,0,0.4812095779925585)\">service</mark> <mark style=\"background-color:rgba(0,255,0,0.4605752881616354)\">with</mark> <mark style=\"background-color:rgba(0,255,0,0.372372823767364)\">the</mark> <mark style=\"background-color:rgba(0,255,0,0.3079766407608986)\">armenian</mark> <mark style=\"background-color:rgba(0,255,0,0.22741938009858131)\">state</mark> <mark style=\"background-color:rgba(0,255,0,0.27408150490373373)\">further</mark> <mark style=\"background-color:rgba(0,255,0,0.29139446560293436)\">south</mark> <mark style=\"background-color:rgba(0,255,0,0.3169118659570813)\">in</mark> <mark style=\"background-color:rgba(0,255,0,0.18967953510582447)\">ci</mark> <mark style=\"background-color:rgba(0,255,0,0.13365388149395585)\">##lic</mark> <mark style=\"background-color:rgba(0,255,0,0.18404064467176795)\">##ia</mark> <mark style=\"background-color:rgba(0,255,0,0.410353671759367)\">and</mark> <mark style=\"background-color:rgba(0,255,0,0.26034798938781023)\">the</mark> <mark style=\"background-color:rgba(0,255,0,0.18561105243861675)\">tau</mark> <mark style=\"background-color:rgba(0,255,0,0.13984901597723365)\">##rus</mark> <mark style=\"background-color:rgba(0,255,0,0.23514844942837954)\">mountains</mark> <mark style=\"background-color:rgba(0,255,0,1.2372352182865143)\">.</mark> <mark style=\"background-color:rgba(0,255,0,0.522259995341301)\">a</mark> <mark style=\"background-color:rgba(0,255,0,0.49587576650083065)\">norman</mark> <mark style=\"background-color:rgba(0,255,0,0.4265088587999344)\">named</mark> <mark style=\"background-color:rgba(0,255,0,0.4951579961925745)\">ours</mark> <mark style=\"background-color:rgba(0,255,0,0.4974828567355871)\">##el</mark> <mark style=\"background-color:rgba(0,255,0,0.49733067862689495)\">led</mark> <mark style=\"background-color:rgba(0,255,0,0.30029856134206057)\">a</mark> <mark style=\"background-color:rgba(0,255,0,0.24285134859383106)\">force</mark> <mark style=\"background-color:rgba(0,255,0,0.3013739362359047)\">of</mark> <mark style=\"background-color:rgba(0,255,0,0.23503296542912722)\">\"</mark> <mark style=\"background-color:rgba(0,255,0,0.3648977493867278)\">franks</mark> <mark style=\"background-color:rgba(0,255,0,0.2223154529929161)\">\"</mark> <mark style=\"background-color:rgba(0,255,0,0.37366754841059446)\">into</mark> <mark style=\"background-color:rgba(0,255,0,0.2735246205702424)\">the</mark> <mark style=\"background-color:rgba(0,255,0,0.128917268011719)\">upper</mark> <mark style=\"background-color:rgba(0,255,0,0.14537802198901772)\">eu</mark> <mark style=\"background-color:rgba(0,255,0,0.13866870431229472)\">##ph</mark> <mark style=\"background-color:rgba(0,255,0,0.1746608759276569)\">##rates</mark> <mark style=\"background-color:rgba(0,255,0,0.17769206315279007)\">valley</mark> <mark style=\"background-color:rgba(0,255,0,0.27762434910982847)\">in</mark> <mark style=\"background-color:rgba(0,255,0,0.15156519366428256)\">northern</mark> <mark style=\"background-color:rgba(0,255,0,0.32385755330324173)\">syria</mark> <mark style=\"background-color:rgba(0,255,0,1.5592788346111774)\">.</mark> <mark style=\"background-color:rgba(0,255,0,0.33916758839040995)\">from</mark> <mark style=\"background-color:rgba(0,255,0,0.185164378490299)\">107</mark> <mark style=\"background-color:rgba(0,255,0,0.13982285745441914)\">##3</mark> <mark style=\"background-color:rgba(0,255,0,0.22505531087517738)\">to</mark> <mark style=\"background-color:rgba(0,255,0,0.1710071344859898)\">107</mark> <mark style=\"background-color:rgba(0,255,0,0.1397492946125567)\">##4</mark> <mark style=\"background-color:rgba(0,255,0,0.3482152707874775)\">,</mark> <mark style=\"background-color:rgba(0,255,0,0.14494979986920953)\">8</mark> <mark style=\"background-color:rgba(0,255,0,0.20773166324943304)\">,</mark> <mark style=\"background-color:rgba(0,255,0,0.19031143747270107)\">000</mark> <mark style=\"background-color:rgba(0,255,0,0.24577078875154257)\">of</mark> <mark style=\"background-color:rgba(0,255,0,0.36752040032297373)\">the</mark> <mark style=\"background-color:rgba(0,255,0,0.16526452964171767)\">20</mark> <mark style=\"background-color:rgba(0,255,0,0.23522013798356056)\">,</mark> <mark style=\"background-color:rgba(0,255,0,0.1968266675248742)\">000</mark> <mark style=\"background-color:rgba(0,255,0,0.21926662884652615)\">troops</mark> <mark style=\"background-color:rgba(0,255,0,0.30474821105599403)\">of</mark> <mark style=\"background-color:rgba(0,255,0,0.4097812809050083)\">the</mark> <mark style=\"background-color:rgba(0,255,0,0.6238188128918409)\">armenian</mark> <mark style=\"background-color:rgba(0,255,0,0.3031524131074548)\">general</mark> <mark style=\"background-color:rgba(0,255,0,0.25215314235538244)\">phil</mark> <mark style=\"background-color:rgba(0,255,0,0.1527131418697536)\">##are</mark> <mark style=\"background-color:rgba(0,255,0,0.3100123256444931)\">##tus</mark> <mark style=\"background-color:rgba(0,255,0,0.3788561560213566)\">bra</mark> <mark style=\"background-color:rgba(0,255,0,0.2013257471844554)\">##cha</mark> <mark style=\"background-color:rgba(0,255,0,0.21783888805657625)\">##mi</mark> <mark style=\"background-color:rgba(0,255,0,0.5159016232937574)\">##us</mark> <mark style=\"background-color:rgba(0,255,0,0.9953640401363373)\">were</mark> <mark style=\"background-color:rgba(0,255,0,0.8866805583238602)\">norman</mark> <mark style=\"background-color:rgba(0,255,0,0.5128305405378342)\">##s</mark> <mark style=\"background-color:rgba(0,255,0,0.6623340770602226)\">—</mark> <mark style=\"background-color:rgba(0,255,0,0.5800819490104914)\">formerly</mark> <mark style=\"background-color:rgba(0,255,0,0.40041152387857437)\">of</mark> <mark style=\"background-color:rgba(0,255,0,0.40616034530103207)\">ours</mark> <mark style=\"background-color:rgba(0,255,0,0.3545277751982212)\">##el</mark> <mark style=\"background-color:rgba(0,255,0,0.5467230919748545)\">—</mark> <mark style=\"background-color:rgba(0,255,0,0.5263552535325289)\">led</mark> <mark style=\"background-color:rgba(0,255,0,0.45322608202695847)\">by</mark> <mark style=\"background-color:rgba(0,255,0,0.32904210966080427)\">rai</mark> <mark style=\"background-color:rgba(0,255,0,0.2069202484562993)\">##mba</mark> <mark style=\"background-color:rgba(0,255,0,0.3729125251993537)\">##ud</mark> <mark style=\"background-color:rgba(0,255,0,1.2102012522518635)\">.</mark> <mark style=\"background-color:rgba(0,255,0,0.9388215839862823)\">they</mark> <mark style=\"background-color:rgba(0,255,0,0.638493150472641)\">even</mark> <mark style=\"background-color:rgba(0,255,0,0.6519316229969263)\">lent</mark> <mark style=\"background-color:rgba(0,255,0,0.3116573439911008)\">their</mark> <mark style=\"background-color:rgba(0,255,0,0.6937174592167139)\">ethnicity</mark> <mark style=\"background-color:rgba(0,255,0,0.4880748689174652)\">to</mark> <mark style=\"background-color:rgba(0,255,0,0.4195892717689276)\">the</mark> <mark style=\"background-color:rgba(0,255,0,0.5587973166257143)\">name</mark> <mark style=\"background-color:rgba(0,255,0,0.3315337700769305)\">of</mark> <mark style=\"background-color:rgba(0,255,0,0.684242881834507)\">their</mark> <mark style=\"background-color:rgba(0,255,0,1.444950234144926)\">castle</mark> <mark style=\"background-color:rgba(0,255,0,1.0462229140102863)\">:</mark> <mark style=\"background-color:rgba(0,255,0,2.434518001973629)\">af</mark> <mark style=\"background-color:rgba(0,255,0,0.4414967726916075)\">##ran</mark> <mark style=\"background-color:rgba(0,255,0,2.362162806093693)\">##ji</mark> <mark style=\"background-color:rgba(0,255,0,0.77670868486166)\">,</mark> <mark style=\"background-color:rgba(0,255,0,0.6519945804029703)\">meaning</mark> <mark style=\"background-color:rgba(0,255,0,0.29838590417057276)\">\"</mark> <mark style=\"background-color:rgba(0,255,0,0.9155905805528164)\">franks</mark> <mark style=\"background-color:rgba(0,255,0,1.27377575263381)\">.</mark> <mark style=\"background-color:rgba(0,255,0,0.7007811218500137)\">\"</mark> <mark style=\"background-color:rgba(0,255,0,0.5102695897221565)\">the</mark> <mark style=\"background-color:rgba(0,255,0,0.5118804518133402)\">known</mark> <mark style=\"background-color:rgba(0,255,0,1.0130174458026886)\">trade</mark> <mark style=\"background-color:rgba(0,255,0,0.579755986109376)\">between</mark> <mark style=\"background-color:rgba(0,255,0,0.2908040536567569)\">ama</mark> <mark style=\"background-color:rgba(0,255,0,0.22170431911945343)\">##lf</mark> <mark style=\"background-color:rgba(0,255,0,0.24508389178663492)\">##i</mark> <mark style=\"background-color:rgba(0,255,0,0.46537122689187527)\">and</mark> <mark style=\"background-color:rgba(0,255,0,0.46666283160448074)\">antioch</mark> <mark style=\"background-color:rgba(0,255,0,0.6466119084507227)\">and</mark> <mark style=\"background-color:rgba(0,255,0,0.6852167192846537)\">between</mark> <mark style=\"background-color:rgba(0,255,0,0.490448297932744)\">bari</mark> <mark style=\"background-color:rgba(0,255,0,0.4484250210225582)\">and</mark> <mark style=\"background-color:rgba(0,255,0,0.22177945356816053)\">tar</mark> <mark style=\"background-color:rgba(0,255,0,0.3695826278999448)\">##sus</mark> <mark style=\"background-color:rgba(0,255,0,0.5980850663036108)\">may</mark> <mark style=\"background-color:rgba(0,255,0,0.3099379828199744)\">be</mark> <mark style=\"background-color:rgba(0,255,0,0.7147594820708036)\">related</mark> <mark style=\"background-color:rgba(0,255,0,0.5476914811879396)\">to</mark> <mark style=\"background-color:rgba(0,255,0,0.4412326496094465)\">the</mark> <mark style=\"background-color:rgba(0,255,0,0.47724987380206585)\">presence</mark> <mark style=\"background-color:rgba(0,255,0,0.40243067778646946)\">of</mark> <mark style=\"background-color:rgba(0,255,0,0.33778215292841196)\">it</mark> <mark style=\"background-color:rgba(0,255,0,0.39423960261046886)\">##alo</mark> <mark style=\"background-color:rgba(0,255,0,0.4339539911597967)\">-</mark> <mark style=\"background-color:rgba(0,255,0,0.719420937821269)\">norman</mark> <mark style=\"background-color:rgba(0,255,0,0.4168942105025053)\">##s</mark> <mark style=\"background-color:rgba(0,255,0,0.4858126863837242)\">in</mark> <mark style=\"background-color:rgba(0,255,0,0.5416505504399538)\">those</mark> <mark style=\"background-color:rgba(0,255,0,0.8223763667047024)\">cities</mark> <mark style=\"background-color:rgba(0,255,0,0.8689579553902149)\">while</mark> <mark style=\"background-color:rgba(0,255,0,0.3125306451693177)\">ama</mark> <mark style=\"background-color:rgba(0,255,0,0.2432001056149602)\">##lf</mark> <mark style=\"background-color:rgba(0,255,0,0.21998477168381214)\">##i</mark> <mark style=\"background-color:rgba(0,255,0,0.5971499253064394)\">and</mark> <mark style=\"background-color:rgba(0,255,0,0.8168448694050312)\">bari</mark> <mark style=\"background-color:rgba(0,255,0,0.46557062305510044)\">were</mark> <mark style=\"background-color:rgba(0,255,0,0.6227327045053244)\">under</mark> <mark style=\"background-color:rgba(0,255,0,0.519028352573514)\">norman</mark> <mark style=\"background-color:rgba(0,255,0,1.1152715422213078)\">rule</mark> <mark style=\"background-color:rgba(0,255,0,1.0534859262406826)\">in</mark> <mark style=\"background-color:rgba(0,255,0,1.3052829541265965)\">italy</mark> <mark style=\"background-color:rgba(0,255,0,3.519470989704132)\">.</mark> <mark style=\"background-color:rgba(0,255,0,0.0)\">[SEP]</mark></p>"
      ],
      "text/plain": [
       "<IPython.core.display.HTML object>"
      ]
     },
     "metadata": {},
     "output_type": "display_data"
    }
   ],
   "source": [
    "show_text_attr(raw_att_expln,text_words,is_relu = True)"
   ]
  },
  {
   "cell_type": "code",
   "execution_count": 167,
   "id": "eb55b2b8",
   "metadata": {},
   "outputs": [
    {
     "data": {
      "text/html": [
       "<p><mark style=\"background-color:rgba(0,255,0,0.0)\">[CLS]</mark> <mark style=\"background-color:rgba(0,255,0,0.6743175334153354)\">what</mark> <mark style=\"background-color:rgba(0,255,0,0.5240005276411461)\">was</mark> <mark style=\"background-color:rgba(0,255,0,0.4223939971581876)\">the</mark> <mark style=\"background-color:rgba(0,255,0,0.7200540488187984)\">name</mark> <mark style=\"background-color:rgba(0,255,0,0.457679664145053)\">of</mark> <mark style=\"background-color:rgba(0,255,0,0.4021592528315505)\">the</mark> <mark style=\"background-color:rgba(0,255,0,0.5961288388141345)\">norman</mark> <mark style=\"background-color:rgba(0,255,0,0.596751446687033)\">castle</mark> <mark style=\"background-color:rgba(0,255,0,0.5460637955249402)\">?</mark> <mark style=\"background-color:rgba(0,255,0,0.0)\">[SEP]</mark> <mark style=\"background-color:rgba(0,255,0,0.569990816102736)\">some</mark> <mark style=\"background-color:rgba(0,255,0,0.6397028817195364)\">norman</mark> <mark style=\"background-color:rgba(0,255,0,0.4434815060179236)\">##s</mark> <mark style=\"background-color:rgba(0,255,0,0.8116689319765305)\">joined</mark> <mark style=\"background-color:rgba(0,255,0,0.5663692388419266)\">turkish</mark> <mark style=\"background-color:rgba(0,255,0,0.603692204336474)\">forces</mark> <mark style=\"background-color:rgba(0,255,0,0.48872486772675017)\">to</mark> <mark style=\"background-color:rgba(0,255,0,0.6311702109320462)\">aid</mark> <mark style=\"background-color:rgba(0,255,0,0.4959340609112645)\">in</mark> <mark style=\"background-color:rgba(0,255,0,0.49521880938002666)\">the</mark> <mark style=\"background-color:rgba(0,255,0,0.7402110784474251)\">destruction</mark> <mark style=\"background-color:rgba(0,255,0,0.5005985799820115)\">of</mark> <mark style=\"background-color:rgba(0,255,0,0.4968546112689569)\">the</mark> <mark style=\"background-color:rgba(0,255,0,0.7045149145265057)\">armenians</mark> <mark style=\"background-color:rgba(0,255,0,0.7852815609123068)\">vassal</mark> <mark style=\"background-color:rgba(0,255,0,0.5355750300175213)\">-</mark> <mark style=\"background-color:rgba(0,255,0,0.4819136066225388)\">states</mark> <mark style=\"background-color:rgba(0,255,0,0.500028915735615)\">of</mark> <mark style=\"background-color:rgba(0,255,0,0.6171996751428159)\">sas</mark> <mark style=\"background-color:rgba(0,255,0,0.487296328885602)\">##so</mark> <mark style=\"background-color:rgba(0,255,0,0.46996047052942574)\">##un</mark> <mark style=\"background-color:rgba(0,255,0,0.6041666681274479)\">and</mark> <mark style=\"background-color:rgba(0,255,0,0.5397589084682749)\">tar</mark> <mark style=\"background-color:rgba(0,255,0,0.40926497893251756)\">##on</mark> <mark style=\"background-color:rgba(0,255,0,0.4677049394929197)\">in</mark> <mark style=\"background-color:rgba(0,255,0,0.5291591934608931)\">far</mark> <mark style=\"background-color:rgba(0,255,0,0.6000954280962524)\">eastern</mark> <mark style=\"background-color:rgba(0,255,0,0.8246749061925919)\">anatolia</mark> <mark style=\"background-color:rgba(0,255,0,0.7999759164064372)\">.</mark> <mark style=\"background-color:rgba(0,255,0,0.6849030331398445)\">later</mark> <mark style=\"background-color:rgba(0,255,0,0.6071665727316777)\">,</mark> <mark style=\"background-color:rgba(0,255,0,0.7111849696872604)\">many</mark> <mark style=\"background-color:rgba(0,255,0,0.6529284728493099)\">took</mark> <mark style=\"background-color:rgba(0,255,0,0.5856253353078361)\">up</mark> <mark style=\"background-color:rgba(0,255,0,0.6755345045542275)\">service</mark> <mark style=\"background-color:rgba(0,255,0,0.638051983400306)\">with</mark> <mark style=\"background-color:rgba(0,255,0,0.6475874486716906)\">the</mark> <mark style=\"background-color:rgba(0,255,0,0.7912579956137327)\">armenian</mark> <mark style=\"background-color:rgba(0,255,0,0.636257357782739)\">state</mark> <mark style=\"background-color:rgba(0,255,0,0.6558886025496387)\">further</mark> <mark style=\"background-color:rgba(0,255,0,0.6021721882824066)\">south</mark> <mark style=\"background-color:rgba(0,255,0,0.4897922365113186)\">in</mark> <mark style=\"background-color:rgba(0,255,0,0.5070490384260281)\">ci</mark> <mark style=\"background-color:rgba(0,255,0,0.5489364288940972)\">##lic</mark> <mark style=\"background-color:rgba(0,255,0,0.5133039869654547)\">##ia</mark> <mark style=\"background-color:rgba(0,255,0,0.6654732161742376)\">and</mark> <mark style=\"background-color:rgba(0,255,0,0.5203833495098443)\">the</mark> <mark style=\"background-color:rgba(0,255,0,0.7395280792760892)\">tau</mark> <mark style=\"background-color:rgba(0,255,0,0.5957284595170668)\">##rus</mark> <mark style=\"background-color:rgba(0,255,0,0.8060079327292847)\">mountains</mark> <mark style=\"background-color:rgba(0,255,0,0.6462598210204499)\">.</mark> <mark style=\"background-color:rgba(0,255,0,0.5372092745204222)\">a</mark> <mark style=\"background-color:rgba(0,255,0,0.7240300214236246)\">norman</mark> <mark style=\"background-color:rgba(0,255,0,0.807896376404422)\">named</mark> <mark style=\"background-color:rgba(0,255,0,0.6017888985157813)\">ours</mark> <mark style=\"background-color:rgba(0,255,0,0.3898874385728325)\">##el</mark> <mark style=\"background-color:rgba(0,255,0,0.540241917656878)\">led</mark> <mark style=\"background-color:rgba(0,255,0,0.4827626917269148)\">a</mark> <mark style=\"background-color:rgba(0,255,0,0.5053431470538563)\">force</mark> <mark style=\"background-color:rgba(0,255,0,0.4924070798083161)\">of</mark> <mark style=\"background-color:rgba(0,255,0,0.4529466971302897)\">\"</mark> <mark style=\"background-color:rgba(0,255,0,0.6826213117977729)\">franks</mark> <mark style=\"background-color:rgba(0,255,0,0.428126478724978)\">\"</mark> <mark style=\"background-color:rgba(0,255,0,0.5320989296890861)\">into</mark> <mark style=\"background-color:rgba(0,255,0,0.4286563168857781)\">the</mark> <mark style=\"background-color:rgba(0,255,0,0.521548838015309)\">upper</mark> <mark style=\"background-color:rgba(0,255,0,0.49148078744890344)\">eu</mark> <mark style=\"background-color:rgba(0,255,0,0.505690341198882)\">##ph</mark> <mark style=\"background-color:rgba(0,255,0,0.7497777956921372)\">##rates</mark> <mark style=\"background-color:rgba(0,255,0,0.6067320700404233)\">valley</mark> <mark style=\"background-color:rgba(0,255,0,0.4753430592967366)\">in</mark> <mark style=\"background-color:rgba(0,255,0,0.558743586996399)\">northern</mark> <mark style=\"background-color:rgba(0,255,0,0.8129451879118442)\">syria</mark> <mark style=\"background-color:rgba(0,255,0,0.6014532631527568)\">.</mark> <mark style=\"background-color:rgba(0,255,0,0.49279023293638474)\">from</mark> <mark style=\"background-color:rgba(0,255,0,0.6703000546073603)\">107</mark> <mark style=\"background-color:rgba(0,255,0,0.49080983465178185)\">##3</mark> <mark style=\"background-color:rgba(0,255,0,0.364265773695478)\">to</mark> <mark style=\"background-color:rgba(0,255,0,0.6046966113967281)\">107</mark> <mark style=\"background-color:rgba(0,255,0,0.5187978986500932)\">##4</mark> <mark style=\"background-color:rgba(0,255,0,0.4705651700562442)\">,</mark> <mark style=\"background-color:rgba(0,255,0,0.4466522088737644)\">8</mark> <mark style=\"background-color:rgba(0,255,0,0.47890880332717883)\">,</mark> <mark style=\"background-color:rgba(0,255,0,0.539973524820953)\">000</mark> <mark style=\"background-color:rgba(0,255,0,0.40558641799848205)\">of</mark> <mark style=\"background-color:rgba(0,255,0,0.45117901398517396)\">the</mark> <mark style=\"background-color:rgba(0,255,0,0.466921587705174)\">20</mark> <mark style=\"background-color:rgba(0,255,0,0.4376720931730892)\">,</mark> <mark style=\"background-color:rgba(0,255,0,0.5747910020042849)\">000</mark> <mark style=\"background-color:rgba(0,255,0,0.6262855529563983)\">troops</mark> <mark style=\"background-color:rgba(0,255,0,0.47995317130759274)\">of</mark> <mark style=\"background-color:rgba(0,255,0,0.48666219475631295)\">the</mark> <mark style=\"background-color:rgba(0,255,0,0.6837691578324139)\">armenian</mark> <mark style=\"background-color:rgba(0,255,0,0.48741060264467845)\">general</mark> <mark style=\"background-color:rgba(0,255,0,0.5517521391874429)\">phil</mark> <mark style=\"background-color:rgba(0,255,0,0.5020801692067599)\">##are</mark> <mark style=\"background-color:rgba(0,255,0,0.6400742931440938)\">##tus</mark> <mark style=\"background-color:rgba(0,255,0,0.46512681085485164)\">bra</mark> <mark style=\"background-color:rgba(0,255,0,0.47555998481484907)\">##cha</mark> <mark style=\"background-color:rgba(0,255,0,0.498103535100771)\">##mi</mark> <mark style=\"background-color:rgba(0,255,0,0.4007352550247955)\">##us</mark> <mark style=\"background-color:rgba(0,255,0,0.6085226612896814)\">were</mark> <mark style=\"background-color:rgba(0,255,0,0.6136979685906785)\">norman</mark> <mark style=\"background-color:rgba(0,255,0,0.452950159863009)\">##s</mark> <mark style=\"background-color:rgba(0,255,0,0.7851615613957181)\">—</mark> <mark style=\"background-color:rgba(0,255,0,0.816194991146028)\">formerly</mark> <mark style=\"background-color:rgba(0,255,0,0.460806631685464)\">of</mark> <mark style=\"background-color:rgba(0,255,0,0.5698188956114478)\">ours</mark> <mark style=\"background-color:rgba(0,255,0,0.37253263549982363)\">##el</mark> <mark style=\"background-color:rgba(0,255,0,0.8282758694101796)\">—</mark> <mark style=\"background-color:rgba(0,255,0,0.5510595768320832)\">led</mark> <mark style=\"background-color:rgba(0,255,0,0.530728925983454)\">by</mark> <mark style=\"background-color:rgba(0,255,0,0.4464490090372402)\">rai</mark> <mark style=\"background-color:rgba(0,255,0,0.47383064443649237)\">##mba</mark> <mark style=\"background-color:rgba(0,255,0,0.4506972289306435)\">##ud</mark> <mark style=\"background-color:rgba(0,255,0,0.561804266881069)\">.</mark> <mark style=\"background-color:rgba(0,255,0,0.6903305161178849)\">they</mark> <mark style=\"background-color:rgba(0,255,0,0.6665947682872657)\">even</mark> <mark style=\"background-color:rgba(0,255,0,0.5528042765184114)\">lent</mark> <mark style=\"background-color:rgba(0,255,0,0.40232233945720897)\">their</mark> <mark style=\"background-color:rgba(0,255,0,0.4953299874958916)\">ethnicity</mark> <mark style=\"background-color:rgba(0,255,0,0.3184194931722235)\">to</mark> <mark style=\"background-color:rgba(0,255,0,0.3533277941544645)\">the</mark> <mark style=\"background-color:rgba(0,255,0,0.5035035962964391)\">name</mark> <mark style=\"background-color:rgba(0,255,0,0.3737247198090751)\">of</mark> <mark style=\"background-color:rgba(0,255,0,0.36902509849392356)\">their</mark> <mark style=\"background-color:rgba(0,255,0,0.5271646312878555)\">castle</mark> <mark style=\"background-color:rgba(0,255,0,0.42273434497488976)\">:</mark> <mark style=\"background-color:rgba(0,255,0,0.39899143261917835)\">af</mark> <mark style=\"background-color:rgba(0,255,0,0.3385241612000916)\">##ran</mark> <mark style=\"background-color:rgba(0,255,0,0.35916407069588985)\">##ji</mark> <mark style=\"background-color:rgba(0,255,0,0.386284460181862)\">,</mark> <mark style=\"background-color:rgba(0,255,0,0.5691683887345516)\">meaning</mark> <mark style=\"background-color:rgba(0,255,0,0.3472054727627347)\">\"</mark> <mark style=\"background-color:rgba(0,255,0,0.539630983909736)\">franks</mark> <mark style=\"background-color:rgba(0,255,0,0.42173498850664415)\">.</mark> <mark style=\"background-color:rgba(0,255,0,0.36312748866694805)\">\"</mark> <mark style=\"background-color:rgba(0,255,0,0.36877630058812527)\">the</mark> <mark style=\"background-color:rgba(0,255,0,0.495356963342329)\">known</mark> <mark style=\"background-color:rgba(0,255,0,0.4460116292178774)\">trade</mark> <mark style=\"background-color:rgba(0,255,0,0.4377803175436121)\">between</mark> <mark style=\"background-color:rgba(0,255,0,0.4401055024461843)\">ama</mark> <mark style=\"background-color:rgba(0,255,0,0.49922802101700786)\">##lf</mark> <mark style=\"background-color:rgba(0,255,0,0.32564514300568914)\">##i</mark> <mark style=\"background-color:rgba(0,255,0,0.4408385573484959)\">and</mark> <mark style=\"background-color:rgba(0,255,0,0.6257793788129992)\">antioch</mark> <mark style=\"background-color:rgba(0,255,0,0.47595151424193816)\">and</mark> <mark style=\"background-color:rgba(0,255,0,0.516515552441591)\">between</mark> <mark style=\"background-color:rgba(0,255,0,0.47854349999275425)\">bari</mark> <mark style=\"background-color:rgba(0,255,0,0.4333361802449422)\">and</mark> <mark style=\"background-color:rgba(0,255,0,0.35147071143113945)\">tar</mark> <mark style=\"background-color:rgba(0,255,0,0.4225223492368839)\">##sus</mark> <mark style=\"background-color:rgba(0,255,0,0.35765014279546986)\">may</mark> <mark style=\"background-color:rgba(0,255,0,0.41102550461838205)\">be</mark> <mark style=\"background-color:rgba(0,255,0,0.5546012748076623)\">related</mark> <mark style=\"background-color:rgba(0,255,0,0.40277036274390865)\">to</mark> <mark style=\"background-color:rgba(0,255,0,0.3346466964065674)\">the</mark> <mark style=\"background-color:rgba(0,255,0,0.452258593012866)\">presence</mark> <mark style=\"background-color:rgba(0,255,0,0.3570262057778234)\">of</mark> <mark style=\"background-color:rgba(0,255,0,0.41748019864062974)\">it</mark> <mark style=\"background-color:rgba(0,255,0,0.48500546929408006)\">##alo</mark> <mark style=\"background-color:rgba(0,255,0,0.3948506693481701)\">-</mark> <mark style=\"background-color:rgba(0,255,0,0.5309860636967072)\">norman</mark> <mark style=\"background-color:rgba(0,255,0,0.3610482453816111)\">##s</mark> <mark style=\"background-color:rgba(0,255,0,0.3897124376796468)\">in</mark> <mark style=\"background-color:rgba(0,255,0,0.540351609641799)\">those</mark> <mark style=\"background-color:rgba(0,255,0,0.5689963495868435)\">cities</mark> <mark style=\"background-color:rgba(0,255,0,0.5907853359109035)\">while</mark> <mark style=\"background-color:rgba(0,255,0,0.4552613909875104)\">ama</mark> <mark style=\"background-color:rgba(0,255,0,0.504211655342291)\">##lf</mark> <mark style=\"background-color:rgba(0,255,0,0.2896394606751061)\">##i</mark> <mark style=\"background-color:rgba(0,255,0,0.4971004081392191)\">and</mark> <mark style=\"background-color:rgba(0,255,0,0.43217004859189434)\">bari</mark> <mark style=\"background-color:rgba(0,255,0,0.5741126550074133)\">were</mark> <mark style=\"background-color:rgba(0,255,0,0.46499662841215467)\">under</mark> <mark style=\"background-color:rgba(0,255,0,0.48820946820678335)\">norman</mark> <mark style=\"background-color:rgba(0,255,0,0.5754962701056767)\">rule</mark> <mark style=\"background-color:rgba(0,255,0,0.4195823999897217)\">in</mark> <mark style=\"background-color:rgba(0,255,0,0.6148598794801216)\">italy</mark> <mark style=\"background-color:rgba(0,255,0,0.5137448181717577)\">.</mark> <mark style=\"background-color:rgba(0,255,0,0.0)\">[SEP]</mark></p>"
      ],
      "text/plain": [
       "<IPython.core.display.HTML object>"
      ]
     },
     "metadata": {},
     "output_type": "display_data"
    }
   ],
   "source": [
    "show_text_attr(rollout_expln,text_words,is_relu = True)"
   ]
  },
  {
   "cell_type": "code",
   "execution_count": null,
   "id": "ba9c9ab8",
   "metadata": {},
   "outputs": [],
   "source": []
  }
 ],
 "metadata": {
  "interpreter": {
   "hash": "6638a2cf1d43c3a13d1389d136f8cbd4a3a87bb07312d70c2fb91fa82cf84aeb"
  },
  "kernelspec": {
   "display_name": "Python 3 (ipykernel)",
   "language": "python",
   "name": "python3"
  },
  "language_info": {
   "codemirror_mode": {
    "name": "ipython",
    "version": 3
   },
   "file_extension": ".py",
   "mimetype": "text/x-python",
   "name": "python",
   "nbconvert_exporter": "python",
   "pygments_lexer": "ipython3",
   "version": "3.9.7"
  }
 },
 "nbformat": 4,
 "nbformat_minor": 5
}
